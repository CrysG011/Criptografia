{
  "nbformat": 4,
  "nbformat_minor": 0,
  "metadata": {
    "colab": {
      "provenance": [],
      "authorship_tag": "ABX9TyMWqjIlExl1NIYvFW7u9nNd",
      "include_colab_link": true
    },
    "kernelspec": {
      "name": "python3",
      "display_name": "Python 3"
    },
    "language_info": {
      "name": "python"
    }
  },
  "cells": [
    {
      "cell_type": "markdown",
      "metadata": {
        "id": "view-in-github",
        "colab_type": "text"
      },
      "source": [
        "<a href=\"https://colab.research.google.com/github/CrysG011/Criptografia/blob/main/Crypto.ipynb\" target=\"_parent\"><img src=\"https://colab.research.google.com/assets/colab-badge.svg\" alt=\"Open In Colab\"/></a>"
      ]
    },
    {
      "cell_type": "code",
      "execution_count": null,
      "metadata": {
        "id": "kZJZz6Ew5gR2"
      },
      "outputs": [],
      "source": [
        "import base64\n",
        "import os\n",
        "import sys\n",
        "print(\"PLATAFORMA: \",sys.platform)\n",
        "print(sys.stdout.write(\" escribiendo en standard output \"))\n",
        "print(\"PYTHON VERSION: \",sys.version)\n",
        "print(\"DEFAULT ENCODING: \",sys.getdefaultencoding())\n",
        "print(\"PATH ENVIROMENT VARIABLE: \",sys.path)\n",
        "pwd=os.getcwd()\n",
        "list_directory=os.listdir(pwd)\n",
        "for directory in list_directory:\n",
        "    print('[+]',directory)\n",
        "print()\n",
        "frase=b'encriptate esto'\n",
        "print(\"LA FRASE ES: \",frase)\n",
        "print()\n",
        "#codificando\n",
        "digitos_hex=base64.b16encode(frase)\n",
        "print(\"LA FRASE ENCRIPTADA ES: \",digitos_hex)\n",
        "print()\n",
        "#codificar=b\"\"\"os.mkdir('carpetavacia')\"\"\"\n",
        "#print(base64.b64encode(codificar))\n",
        "#script=b'b3MubWtkaXIoJ2NhcnBldGF2YWNpYScp'\n",
        "#   decodificando\n",
        "frase=base64.b16decode(digitos_hex)\n",
        "print(\"FRASE DESENCRIPTADA: \",frase)\n",
        "#exec(base64.b64decode(script))"
      ]
    },
    {
      "cell_type": "code",
      "source": [
        "import sqlite3\n",
        "import bcrypt\n",
        "import string\n",
        "import random\n",
        "\n",
        "def generar_contraseña():\n",
        "    longitud = 16\n",
        "    caracteres = string.ascii_letters + string.digits + string.punctuation\n",
        "    contraseña = ''.join(random.choices(caracteres, k=longitud))\n",
        "    return contraseña\n",
        "\n",
        "def cifrar_contraseña(contraseña):\n",
        "    salt = bcrypt.gensalt()\n",
        "    contraseña_cifrada = bcrypt.hashpw(contraseña.encode('utf-8'), salt)\n",
        "    return contraseña_cifrada.decode('utf-8')\n",
        "\n",
        "def almacenar_contraseña(contraseña_cifrada):\n",
        "    conn = sqlite3.connect('contraseñas.db')\n",
        "    c = conn.cursor()\n",
        "    c.execute(\"INSERT INTO contraseñas (contraseña) VALUES (?)\", (contraseña_cifrada,))\n",
        "    conn.commit()\n",
        "    conn.close()\n",
        "\n",
        "contraseña = generar_contraseña()\n",
        "contraseña_cifrada = cifrar_contraseña(contraseña)\n",
        "almacenar_contraseña(contraseña_cifrada)\n",
        "print(\"Contraseña generada y almacenada con éxito.\")\n"
      ],
      "metadata": {
        "id": "0vHQlWlNrhN1"
      },
      "execution_count": null,
      "outputs": []
    },
    {
      "cell_type": "code",
      "source": [
        "!pip install bcrypt\n"
      ],
      "metadata": {
        "colab": {
          "base_uri": "https://localhost:8080/"
        },
        "id": "DSRd8fIHMMMJ",
        "outputId": "6f392d8b-d5bf-4ff6-defa-b5bd709dca96"
      },
      "execution_count": null,
      "outputs": [
        {
          "output_type": "stream",
          "name": "stdout",
          "text": [
            "Collecting bcrypt\n",
            "  Downloading bcrypt-4.0.1-cp36-abi3-manylinux_2_28_x86_64.whl (593 kB)\n",
            "\u001b[?25l     \u001b[90m━━━━━━━━━━━━━━━━━━━━━━━━━━━━━━━━━━━━━━━━\u001b[0m \u001b[32m0.0/593.7 kB\u001b[0m \u001b[31m?\u001b[0m eta \u001b[36m-:--:--\u001b[0m\r\u001b[2K     \u001b[90m━━━━━━━━━━━━━━━━━━━━━━━━━━━━━━━━━━━━━━\u001b[0m \u001b[32m593.7/593.7 kB\u001b[0m \u001b[31m25.7 MB/s\u001b[0m eta \u001b[36m0:00:00\u001b[0m\n",
            "\u001b[?25hInstalling collected packages: bcrypt\n",
            "Successfully installed bcrypt-4.0.1\n"
          ]
        }
      ]
    },
    {
      "cell_type": "code",
      "source": [
        "import sqlite3\n",
        "import bcrypt\n",
        "import string\n",
        "import random\n",
        "import os\n",
        "from contextlib import closing\n",
        "\n",
        "def generar_contraseña():\n",
        "    longitud = 16\n",
        "    caracteres = string.ascii_letters + string.digits + string.punctuation\n",
        "    contraseña = ''.join(random.choices(caracteres, k=longitud))\n",
        "    return contraseña\n",
        "\n",
        "def cifrar_contraseña(contraseña):\n",
        "    salt = bcrypt.gensalt()\n",
        "    contraseña_cifrada = bcrypt.hashpw(contraseña.encode('utf-8'), salt)\n",
        "    return contraseña_cifrada.decode('utf-8')\n",
        "\n",
        "def crear_tabla_contraseñas():\n",
        "    with sqlite3.connect('contraseñas.db') as conn:\n",
        "        with closing(conn.cursor()) as c:\n",
        "            c.execute('''CREATE TABLE IF NOT EXISTS contraseñas\n",
        "                         (id INTEGER PRIMARY KEY AUTOINCREMENT, contraseña TEXT NOT NULL)''')\n",
        "            conn.commit()\n",
        "\n",
        "def almacenar_contraseña(contraseña_cifrada):\n",
        "    with sqlite3.connect('contraseñas.db') as conn:\n",
        "        with closing(conn.cursor()) as c:\n",
        "            c.execute(\"INSERT INTO contraseñas (contraseña) VALUES (?)\", (contraseña_cifrada,))\n",
        "            conn.commit()\n",
        "            c.execute(\"SELECT * FROM contraseñas\")\n",
        "            rows = c.fetchall()\n",
        "            for row in rows:\n",
        "                print(row)\n",
        "\n",
        "def main():\n",
        "    os.system(\"clear\")  # Limpia la pantalla para mayor seguridad\n",
        "    crear_tabla_contraseñas()\n",
        "    contraseña = generar_contraseña()\n",
        "    contraseña_cifrada = cifrar_contraseña(contraseña)\n",
        "    almacenar_contraseña(contraseña_cifrada)\n",
        "    print(\"Contraseña creada y almacenada con éxito.\")\n",
        "\n",
        "if __name__ == \"__main__\":\n",
        "    main()\n",
        "\n",
        "print(os.getcwd())\n"
      ],
      "metadata": {
        "id": "djk8Y89qC4ZX"
      },
      "execution_count": null,
      "outputs": []
    },
    {
      "cell_type": "code",
      "source": [
        "from google.colab import files\n",
        "files.download('contraseñas.db')\n"
      ],
      "metadata": {
        "id": "synDSrAz_Psz",
        "outputId": "bfe2c3fb-85ec-4bc1-b2f9-ad51c0c46b90",
        "colab": {
          "base_uri": "https://localhost:8080/",
          "height": 17
        }
      },
      "execution_count": null,
      "outputs": [
        {
          "output_type": "display_data",
          "data": {
            "text/plain": [
              "<IPython.core.display.Javascript object>"
            ],
            "application/javascript": [
              "\n",
              "    async function download(id, filename, size) {\n",
              "      if (!google.colab.kernel.accessAllowed) {\n",
              "        return;\n",
              "      }\n",
              "      const div = document.createElement('div');\n",
              "      const label = document.createElement('label');\n",
              "      label.textContent = `Downloading \"${filename}\": `;\n",
              "      div.appendChild(label);\n",
              "      const progress = document.createElement('progress');\n",
              "      progress.max = size;\n",
              "      div.appendChild(progress);\n",
              "      document.body.appendChild(div);\n",
              "\n",
              "      const buffers = [];\n",
              "      let downloaded = 0;\n",
              "\n",
              "      const channel = await google.colab.kernel.comms.open(id);\n",
              "      // Send a message to notify the kernel that we're ready.\n",
              "      channel.send({})\n",
              "\n",
              "      for await (const message of channel.messages) {\n",
              "        // Send a message to notify the kernel that we're ready.\n",
              "        channel.send({})\n",
              "        if (message.buffers) {\n",
              "          for (const buffer of message.buffers) {\n",
              "            buffers.push(buffer);\n",
              "            downloaded += buffer.byteLength;\n",
              "            progress.value = downloaded;\n",
              "          }\n",
              "        }\n",
              "      }\n",
              "      const blob = new Blob(buffers, {type: 'application/binary'});\n",
              "      const a = document.createElement('a');\n",
              "      a.href = window.URL.createObjectURL(blob);\n",
              "      a.download = filename;\n",
              "      div.appendChild(a);\n",
              "      a.click();\n",
              "      div.remove();\n",
              "    }\n",
              "  "
            ]
          },
          "metadata": {}
        },
        {
          "output_type": "display_data",
          "data": {
            "text/plain": [
              "<IPython.core.display.Javascript object>"
            ],
            "application/javascript": [
              "download(\"download_b98e0574-0099-4530-b725-fada59a720cc\", \"contrase\\u00f1as.db\", 12288)"
            ]
          },
          "metadata": {}
        }
      ]
    },
    {
      "cell_type": "code",
      "source": [
        "import hashlib  # Se importa hashlib\n",
        "\n",
        "contraseña = input(\"Contraseña\\n\") # El usuario ingresa la contraseña que va a utilizar\n",
        "contraseña_cifrada = hashlib.sha256(contraseña.encode()) # Se codifica la contraseña y luego se\n",
        "                                                         # aplica el algoritmo de cifrado\n",
        "print(\"Su contraseña cifrada es:\")\n",
        "print(contraseña_cifrada.hexdigest())  # Se imprime la contraseña cifrada en caracteres hexadecimales"
      ],
      "metadata": {
        "id": "phaTXV_5xBD6",
        "colab": {
          "base_uri": "https://localhost:8080/"
        },
        "outputId": "7c0ac09a-7169-47ed-9ef4-248d6b427629"
      },
      "execution_count": null,
      "outputs": [
        {
          "output_type": "stream",
          "name": "stdout",
          "text": [
            "Contraseña\n",
            "admin123\n",
            "Su contraseña cifrada es:\n",
            "240be518fabd2724ddb6f04eeb1da5967448d7e831c08c8fa822809f74c720a9\n"
          ]
        }
      ]
    },
    {
      "cell_type": "code",
      "source": [
        "import socket\n",
        "s = socket.socket(socket.AF_INET, socket.SOCK_STREAM)\n",
        "s.bind((\"127.0.0.1\", 8080))\n",
        "s.listen(1)\n",
        "client_socket, client_address = s.accept()\n",
        "data = client_socket.recv(1024)\n",
        "client_socket.send(b\"Hola, cliente!\\n\")\n",
        "client_socket.close()\n",
        "s.close()"
      ],
      "metadata": {
        "id": "vjpOFYAL6CmJ"
      },
      "execution_count": null,
      "outputs": []
    },
    {
      "cell_type": "code",
      "source": [
        "#EJEMPLO: SISTEMA DE AUTENTICACION EN DOS FACTORES\n",
        "\n",
        "from cryptography.hazmat.primitives import serialization, hashes\n",
        "from cryptography.hazmat.primitives.asymmetric import rsa\n",
        "\n",
        "# Despues de que el usuario haya proporcionado sus credenciales de inicio de sesión..\n",
        "# ... el servidor podría generar una clave RSA utilizando este código y almacenarla en la base de datos del servidor para ese usuario.\n",
        "\n",
        "private_key = rsa.generate_private_key(\n",
        "    public_exponent=65537, # Comunmente utilizado ya q es un número primo que tiene solo dos bits de valor \"1\" en su representación binaria (es decir, 0b10000000000000001)\n",
        "    key_size=1024\n",
        "     # Hasta 4096 bits o mayores segun nivel de seguridad\n",
        ")\n",
        "\n",
        "public_key = private_key.public_key()\n",
        "\n",
        "# Serializar la clave privada en formato PEM (formato de texto plano utilizado para almacenar claves y certificados.)\n",
        "private_pem = private_key.private_bytes(\n",
        "    encoding=serialization.Encoding.PEM,\n",
        "    format=serialization.PrivateFormat.PKCS8,\n",
        "    encryption_algorithm=serialization.NoEncryption()\n",
        ")\n",
        "\n",
        "# Serializar la clave pública en formato PEM\n",
        "public_pem = public_key.public_bytes(\n",
        "    encoding=serialization.Encoding.PEM,\n",
        "    format=serialization.PublicFormat.SubjectPublicKeyInfo\n",
        ")\n",
        "\n",
        "# Convertir las claves PEM a hexadecimales\n",
        "private_key_hex = private_pem.hex()\n",
        "public_key_hex = public_pem.hex()\n",
        "\n",
        "print(private_key_hex)\n",
        "print(\"\")\n",
        "print(public_key_hex)\n",
        "\n",
        "\n",
        "\n",
        "\n"
      ],
      "metadata": {
        "colab": {
          "base_uri": "https://localhost:8080/"
        },
        "id": "GsCaH2LSlVIN",
        "outputId": "891b4e70-3bbe-47c3-ce01-59ec7057fa0a"
      },
      "execution_count": null,
      "outputs": [
        {
          "output_type": "stream",
          "name": "stdout",
          "text": [
            "2d2d2d2d2d424547494e2050524956415445204b45592d2d2d2d2d0a4d494943645149424144414e42676b71686b6947397730424151454641415343416c387767674a6241674541416f4742414c4f376f763036316d416746597a2b0a6e31544e42746b324e2b73526d6133583068444c49565575414d38496c436f50543341766671546f30735974733377516b52696e6d684c34745362744b614e4e0a565447774c393447545149707371643055686a45664d4f3973635a627841317155685678444e7a6d4e4c5357392b78577a6b71784549397241686f6964426c5a0a6659374933614b48764a69444e624374363453654a5778696e70427241674d42414145436759417277435158776b66473147694b6a7279594e755251345972520a464e4b303535464239304267374c62547273487154786e474e446c2b795248746e6468502f66526a3751427256394534375967794d54506f7958754e427374620a616569546e766b7648662f3834736a76445452754f6b4f624e765442362b4b6e36744a77794a334a696f6f4d6e5646777851746853376970516c33424c6e434a0a74497a5431334e753569364e72582f724d514a42414e636c4a705a426d436335616270516b31635a70726b634c6d633872636e42306858614d524c5675686b4c0a4f5254664b4636613666762f54796d497176504366794c75596b43596d526570536e545331576e4134706b4351514456335036574a317a6856382f4f467963780a663054704949584c653649764e6e7a6839737a4c74744373656d4f476954476e576e5958683676384b446d65754e6337487073565057575355703872464a34780a527a476a416b4277516a3545494b335871616c3151683366554d38687634616d37343575752b6432353461376f5447645a3747394a6b50574f56626c326d33660a36695070565138706c75464665317047636c73625966646857766668416b414572736b5953705a62444d7774444136386f3766446a77572b39643851503559750a63485039686577397970524254754736633132676d45546f7959797863415375633759626d664f4f5a3661366a3849432f446358416b427a50694d52445777610a67315a454d6d574955674f706a7979676252413064496f4b7071714a534944596d2f66315237344f43744e4a7169434836704c716f42652b34736b5857722f4f0a55596477773162574a3139530a2d2d2d2d2d454e442050524956415445204b45592d2d2d2d2d0a\n",
            "\n",
            "2d2d2d2d2d424547494e205055424c4943204b45592d2d2d2d2d0a4d4947664d413047435371475349623344514542415155414134474e4144434269514b426751437a75364c394f745a674942574d2f7039557a51625a4e6a66720a455a6d7431394951797946564c674450434a5171443039774c33366b364e4c474c624e38454a455970356f532b4c556d37536d6a5456557873432f65426b30430a4b624b6e6446495978487a44766248475738514e616c495663517a63356a53306c7666735673354b7352435061774961496e515a5758324f794e3269683779590a677a5777726575456e6956735970365161774944415141420a2d2d2d2d2d454e44205055424c4943204b45592d2d2d2d2d0a\n"
          ]
        }
      ]
    },
    {
      "cell_type": "code",
      "source": [],
      "metadata": {
        "id": "dHArIT_eli7F"
      },
      "execution_count": null,
      "outputs": []
    },
    {
      "cell_type": "code",
      "source": [
        "import webbrowser\n",
        "url='https://docs.python.org/3/library/webbrowser.html'\n",
        "webbrowser.register('chrome',None,webbrowser.BackgroundBrowser(\"C:/Program Files/Google/Chrome/Application\"))\n",
        "webbrowser.get('chrome').open(url)"
      ],
      "metadata": {
        "id": "T2HouNZr6Vl4"
      },
      "execution_count": null,
      "outputs": []
    },
    {
      "cell_type": "code",
      "source": [
        "import hashlib\n",
        "\n",
        "# Definimos la contraseña y la sal\n",
        "password = \"encriptate-est0\".encode('utf-8')\n",
        "print(\"La contraseña es: \",password)\n",
        "salt = b'$2b$12$JyxNQsoQnN/ETkMj7V/86e'\n",
        "\n",
        "# Concatenamos la sal y la contraseña\n",
        "salted_password = salt + password\n",
        "\n",
        "# Generamos el hash SHA-256\n",
        "hashed_password = hashlib.sha256(salted_password).hexdigest()\n",
        "\n",
        "print(\"Contraseña encriptada: \",hashed_password)\n"
      ],
      "metadata": {
        "id": "j11aWf8E6cvH",
        "colab": {
          "base_uri": "https://localhost:8080/"
        },
        "outputId": "f147f665-4d2a-489b-9e24-a7ece24b78f1"
      },
      "execution_count": null,
      "outputs": [
        {
          "output_type": "stream",
          "name": "stdout",
          "text": [
            "La contraseña es:  b'encriptate-est0'\n",
            "Contraseña encriptada:  9a0285074ddf8be253e1a509c98dc198d5519d7a4aa5f6730ad50de379386b77\n"
          ]
        }
      ]
    },
    {
      "cell_type": "code",
      "source": [
        "import random\n",
        "from werkzeug.security import generate_password_hash\n",
        "minus=\"abcdefghijqlmnopqrstuvwyz\"\n",
        "mayus=minus.upper()\n",
        "numeros=\"0123456789\"\n",
        "simbolos=\"@#$%&-_+*><!¡¿?/,;{}[]()=\"\n",
        "base=minus+mayus+numeros+simbolos\n",
        "\n",
        "longitud=12\n",
        "for _ in range(4):\n",
        "  muestra=random.sample(base,longitud)\n",
        "  password=\"\".join(muestra)\n",
        "  password_encrip=generate_password_hash(password)\n",
        "  print(\"{} => {}\".format(password,password_encrip))"
      ],
      "metadata": {
        "colab": {
          "base_uri": "https://localhost:8080/"
        },
        "id": "yl-Pxxo9EJqi",
        "outputId": "631493ff-5688-4757-b7e5-927f29b54d6c"
      },
      "execution_count": null,
      "outputs": [
        {
          "output_type": "stream",
          "name": "stdout",
          "text": [
            "AGhs+(Y$8VIF => pbkdf2:sha256:260000$Amrm8MIG1q6hd67k$b975fb29e9018d1ee304eeb11886e982131262c5f93258565477e2e57ba21eef\n",
            "#>5*_i=0l2y& => pbkdf2:sha256:260000$27MJn67TVKwO3ywz$f9f312b7498e1e97d9de4447ac96e18f681ed3a69cf4dbcc95930d484c592421\n",
            ")3uQb7d1cn2¡ => pbkdf2:sha256:260000$b8OM9r3b4BmmB5pa$7b1613425dfe2f1d8b787a669d0bb0f53dd049b53ba3677e7641fe8aa93f8913\n",
            "[&BRAI*vHsZD => pbkdf2:sha256:260000$AwWM5FQM7PidVZYm$aebb910dd180d78cd7405e6b32437ece230f970e6b1ca13eb44b8f73d9ec85dc\n"
          ]
        }
      ]
    }
  ]
}