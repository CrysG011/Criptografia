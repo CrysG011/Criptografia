{
  "nbformat": 4,
  "nbformat_minor": 0,
  "metadata": {
    "colab": {
      "provenance": [],
      "authorship_tag": "ABX9TyPfhsHj/fjPiK48s7BvJ4zV",
      "include_colab_link": true
    },
    "kernelspec": {
      "name": "python3",
      "display_name": "Python 3"
    },
    "language_info": {
      "name": "python"
    }
  },
  "cells": [
    {
      "cell_type": "markdown",
      "metadata": {
        "id": "view-in-github",
        "colab_type": "text"
      },
      "source": [
        "<a href=\"https://colab.research.google.com/github/CrysG011/Criptografia/blob/main/generador.ipynb\" target=\"_parent\"><img src=\"https://colab.research.google.com/assets/colab-badge.svg\" alt=\"Open In Colab\"/></a>"
      ]
    },
    {
      "cell_type": "code",
      "execution_count": null,
      "metadata": {
        "colab": {
          "base_uri": "https://localhost:8080/"
        },
        "id": "IshwrixMX0kj",
        "outputId": "35f72404-95ac-4c1c-af54-43913635774d"
      },
      "outputs": [
        {
          "output_type": "stream",
          "name": "stdout",
          "text": [
            "Contraseña generada: uA0_a5GVg)YO\n",
            "Ingrese una contraseña para verificar: uA0_a5GVg)YO\n",
            "La contraseña es correcta.\n"
          ]
        }
      ],
      "source": [
        "import hashlib\n",
        "import sqlite3\n",
        "import random\n",
        "import string\n",
        "import os\n",
        "import binascii\n",
        "\n",
        "# Función para generar contraseñas aleatorias\n",
        "def generar_password():\n",
        "    longitud = 23\n",
        "    caracteres = string.ascii_letters + string.digits + string.punctuation\n",
        "    password = ''.join(random.choice(caracteres) for i in range(longitud))\n",
        "    return password\n",
        "\n",
        "# Función para generar hash de contraseñas\n",
        "def generar_hash(password):\n",
        "    salt = hashlib.sha256(os.urandom(60)).hexdigest().encode('ascii')\n",
        "    hash_password = hashlib.pbkdf2_hmac('sha512', password.encode('utf-8'), salt, 100000)\n",
        "    hash_password = binascii.hexlify(hash_password)\n",
        "    return (salt + hash_password).decode('ascii')\n",
        "\n",
        "# Conexión a la base de datos\n",
        "conn = sqlite3.connect('passwords.db')\n",
        "c = conn.cursor()\n",
        "\n",
        "# Creación de la tabla para almacenar contraseñas\n",
        "c.execute('''CREATE TABLE IF NOT EXISTS passwords\n",
        "             (id INTEGER PRIMARY KEY, password TEXT, hash TEXT)''')\n",
        "\n",
        "# Función para agregar una contraseña a la base de datos\n",
        "def agregar_password(password):\n",
        "    hash_password = generar_hash(password)\n",
        "    c.execute(\"INSERT INTO passwords (password, hash) VALUES (?, ?)\", (password, hash_password))\n",
        "    conn.commit()\n",
        "\n",
        "# Función para verificar una contraseña ingresada\n",
        "def verificar_password(password):\n",
        "    c.execute(\"SELECT hash FROM passwords WHERE password = ?\", (password,))\n",
        "    row = c.fetchone()\n",
        "    if row:\n",
        "        stored_hash = row[0]\n",
        "        salt = stored_hash[:64]\n",
        "        stored_hash = stored_hash[64:]\n",
        "        hash_password = hashlib.pbkdf2_hmac('sha512', password.encode('utf-8'), salt.encode('ascii'), 100000)\n",
        "        hash_password = binascii.hexlify(hash_password).decode('ascii')\n",
        "        if hash_password == stored_hash:\n",
        "            return True\n",
        "    return False\n",
        "\n",
        "# Ejemplo de uso del generador de contraseñas seguras\n",
        "password = generar_password()\n",
        "print(f\"Contraseña generada: {password}\")\n",
        "agregar_password(password)\n",
        "\n",
        "# Verificación de una contraseña ingresada\n",
        "password_ingresada = input(\"Ingrese la contraseña para verificar: \")\n",
        "if verificar_password(password_ingresada):\n",
        "    print(\"La contraseña es correcta.\")\n",
        "else:\n",
        "    print(\"La contraseña es incorrecta.\")\n",
        "\n"
      ]
    }
  ]
}